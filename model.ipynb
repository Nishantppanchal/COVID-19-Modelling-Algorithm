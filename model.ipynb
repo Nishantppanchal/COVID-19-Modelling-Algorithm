{
 "cells": [
  {
   "cell_type": "code",
   "execution_count": 175,
   "metadata": {},
   "outputs": [],
   "source": [
    "import numpy as np\n",
    "import random\n",
    "from itertools import product\n",
    "import matplotlib.pyplot as plt"
   ]
  },
  {
   "cell_type": "code",
   "execution_count": 176,
   "metadata": {},
   "outputs": [],
   "source": [
    "def prob_infection(d, capacity):\n",
    "    I = 1\n",
    "    q = 0.238\n",
    "    p = 0.3 / 60\n",
    "    Q = 10 * 0.01 * capacity\n",
    "    t = 2 * 60 * 60\n",
    "    \n",
    "    P_d = (-18.19 * np.log(d) + 44.276) / 100\n",
    "    P_i = 1 - np.exp(-P_d * ((I * q * p * t) / Q))\n",
    "    return P_i if P_i >= 0 else 0"
   ]
  },
  {
   "cell_type": "code",
   "execution_count": 177,
   "metadata": {},
   "outputs": [],
   "source": [
    "def distance(x1, y1, x2, y2):\n",
    "    return np.sqrt((x1 - x2) ** 2  + (y1 - y2) ** 2)"
   ]
  },
  {
   "cell_type": "code",
   "execution_count": 178,
   "metadata": {},
   "outputs": [],
   "source": [
    "def generate_sitting_array(social_distancing):\n",
    "    # Distance between two people siting side (the centers of their chairs) is 50cm/0.5m\n",
    "    # The distance across a walkway is 2m (1.5m walk + distance from center of chairs)\n",
    "    # Grid at 0.5m distances\n",
    "    south_one_sitting = np.array(\n",
    "        [\n",
    "            [1, 0, 1, 0, 1, 0, 1, 0, 1, 0, 1, 0, 1]\n",
    "            + [0] * 4\n",
    "            + [1, 0, 1, 0, 1, 0, 1, 0, 1, 0, 1, 0, 1, 0, 1, 0, 1, 0, 1]\n",
    "            + [0] * 4\n",
    "            + [1, 0, 1, 0, 1, 0, 1, 0, 1, 0, 1, 0, 1],\n",
    "            [0] * 53,\n",
    "            [0] * 53,\n",
    "            [1, 0, 1, 0, 1, 0, 1, 0, 1, 0, 1, 0, 1]\n",
    "            + [0] * 4\n",
    "            + [1, 0, 1, 0, 1, 0, 1, 0, 1, 0, 1, 0, 1, 0, 1, 0, 1, 0, 1]\n",
    "            + [0] * 4\n",
    "            + [1, 0, 1, 0, 1, 0, 1, 0, 1, 0, 1, 0, 1],\n",
    "            [0] * 53,\n",
    "            [0] * 53,\n",
    "            [1, 0, 1, 0, 1, 0, 1, 0, 1, 0, 1, 0, 1]\n",
    "            + [0] * 4\n",
    "            + [1, 0, 1, 0, 1, 0, 1, 0, 1, 0, 1, 0, 1, 0, 1, 0, 1, 0, 1]\n",
    "            + [0] * 4\n",
    "            + [1, 0, 1, 0, 1, 0, 1, 0, 1, 0, 1, 0, 1],\n",
    "            [0] * 53,\n",
    "            [0] * 53,\n",
    "            [1, 0, 1, 0, 1, 0, 1, 0, 1, 0, 1, 0, 1]\n",
    "            + [0] * 4\n",
    "            + [1, 0, 1, 0, 1, 0, 1, 0, 1, 0, 1, 0, 1, 0, 1, 0, 1, 0, 1]\n",
    "            + [0] * 4\n",
    "            + [1, 0, 1, 0, 1, 0, 1, 0, 1, 0, 1, 0, 1],\n",
    "            [0] * 53,\n",
    "            [0] * 53,\n",
    "            [1, 0, 1, 0, 1, 0, 1, 0, 1, 0, 1, 0, 1]\n",
    "            + [0] * 4\n",
    "            + [1, 0, 1, 0, 1, 0, 1, 0, 1, 0, 1, 0, 1, 0, 1, 0, 1, 0, 1]\n",
    "            + [0] * 4\n",
    "            + [1, 0, 1, 0, 1, 0, 1, 0, 1, 0, 1, 0, 1],\n",
    "            [0] * 53,\n",
    "            [0] * 53,\n",
    "            [0] * 53,\n",
    "            [0] * 53,\n",
    "            [1, 0, 1, 0, 1, 0, 1, 0, 1, 0, 1, 0, 1]\n",
    "            + [0] * 4\n",
    "            + [1, 0, 1, 0, 1, 0, 1, 0, 1, 0, 1, 0, 1, 0, 1, 0, 1, 0, 1]\n",
    "            + [0] * 4\n",
    "            + [1, 0, 1, 0, 1, 0, 1, 0, 1, 0, 1, 0, 1],\n",
    "            [0] * 53,\n",
    "            [0] * 53,\n",
    "            [1, 0, 1, 0, 1, 0, 1, 0, 1, 0, 1, 0, 1]\n",
    "            + [0] * 4\n",
    "            + [1, 0, 1, 0, 1, 0, 1, 0, 1, 0, 1, 0, 1, 0, 1, 0, 1, 0, 1]\n",
    "            + [0] * 4\n",
    "            + [1, 0, 1, 0, 1, 0, 1, 0, 1, 0, 1, 0, 1],\n",
    "            [0] * 53,\n",
    "            [0] * 53,\n",
    "            [1, 0, 1, 0, 1, 0, 1, 0, 1, 0, 1, 0, 1]\n",
    "            + [0] * 4\n",
    "            + [1, 0, 1, 0, 1, 0, 1, 0, 1, 0, 1, 0, 1, 0, 1, 0, 1, 0, 1]\n",
    "            + [0] * 4\n",
    "            + [1, 0, 1, 0, 1, 0, 1, 0, 1, 0, 1, 0, 1],\n",
    "            [0] * 53,\n",
    "            [0] * 53,\n",
    "            [1, 0, 1, 0, 1, 0, 1, 0, 1, 0, 1, 0, 1]\n",
    "            + [0] * 4\n",
    "            + [1, 0, 1, 0, 1, 0, 1, 0, 1, 0, 1, 0, 1, 0, 1, 0, 1, 0, 1]\n",
    "            + [0] * 4\n",
    "            + [1, 0, 1, 0, 1, 0, 1, 0, 1, 0, 1, 0, 1],\n",
    "            [0] * 53,\n",
    "            [0] * 53,\n",
    "            [1, 0, 1, 0, 1, 0, 1, 0, 1, 0, 1, 0, 1]\n",
    "            + [0] * 4\n",
    "            + [1, 0, 1, 0, 1, 0, 1, 0, 1, 0, 1, 0, 1, 0, 1, 0, 1, 0, 1]\n",
    "            + [0] * 4\n",
    "            + [1, 0, 1, 0, 1, 0, 1, 0, 1, 0, 1, 0, 1],\n",
    "            [0] * 53,\n",
    "            [0] * 53,\n",
    "            [1, 0, 1, 0, 1, 0, 1, 0, 1, 0, 1, 0, 1]\n",
    "            + [0] * 4\n",
    "            + [1, 0, 1, 0, 1, 0, 1, 0, 1, 0, 1, 0, 1, 0, 1, 0, 1, 0, 1]\n",
    "            + [0] * 4\n",
    "            + [1, 0, 1, 0, 1, 0, 1, 0, 1, 0, 1, 0, 1],\n",
    "            [0] * 53,\n",
    "            [0] * 53,\n",
    "            [1, 0, 1, 0, 1, 0, 1, 0, 1, 0, 1, 0, 1]\n",
    "            + [0] * 4\n",
    "            + [1, 0, 1, 0, 1, 0, 1, 0, 1, 0, 1, 0, 1, 0, 1, 0, 1, 0, 1]\n",
    "            + [0] * 4\n",
    "            + [1, 0, 1, 0, 1, 0, 1, 0, 1, 0, 1, 0, 1],\n",
    "            [0] * 53,\n",
    "            [0] * 53,\n",
    "        ]\n",
    "    )\n",
    "\n",
    "    social_distancing = int(social_distancing * 2)\n",
    "\n",
    "    for i in range(south_one_sitting.shape[0]):\n",
    "        top_bound = i - social_distancing if i - social_distancing >= 0 else 0\n",
    "        bottom_bound = (\n",
    "            i + social_distancing\n",
    "            if i + social_distancing <= south_one_sitting.shape[0] - 1\n",
    "            else south_one_sitting.shape[0] - 1\n",
    "        )\n",
    "\n",
    "        for j in range(south_one_sitting.shape[1]):\n",
    "            if south_one_sitting[i, j] == 1:\n",
    "                left_bound = j - social_distancing if j - social_distancing >= 0 else 0\n",
    "                right_bound = (\n",
    "                    j + social_distancing\n",
    "                    if j + social_distancing <= south_one_sitting.shape[1] - 1\n",
    "                    else south_one_sitting.shape[1] - 1\n",
    "                )\n",
    "\n",
    "                square_of_interest = south_one_sitting[top_bound:bottom_bound, left_bound:right_bound]\n",
    "                for k, l in product(range(square_of_interest.shape[0]), range(square_of_interest.shape[1])):\n",
    "                    if (\n",
    "                        distance(top_bound + k, left_bound + l, i, j) < social_distancing\n",
    "                        and square_of_interest[k, l] == 2\n",
    "                    ):\n",
    "                        break\n",
    "                else:\n",
    "                    south_one_sitting[i, j] = 2\n",
    "\n",
    "    plt.imshow(south_one_sitting)\n",
    "\n",
    "    return south_one_sitting\n"
   ]
  },
  {
   "cell_type": "code",
   "execution_count": 179,
   "metadata": {},
   "outputs": [],
   "source": [
    "def generate_map(canvas, sitting_array):\n",
    "    accum = 1\n",
    "    \n",
    "    for i in range(sitting_array.shape[0]):\n",
    "        for j in range(sitting_array.shape[1]):\n",
    "            if sitting_array[i, j] == 2:\n",
    "                canvas.node(accum).add()\n",
    "                canvas.edges(((accum, node) for node in range(1, accum))).add()\n",
    "                accum += 1"
   ]
  },
  {
   "cell_type": "code",
   "execution_count": 180,
   "metadata": {},
   "outputs": [],
   "source": [
    "def random_trigger(prob):\n",
    "    return random.uniform(0.0, 1.0) <= prob"
   ]
  },
  {
   "cell_type": "code",
   "execution_count": 181,
   "metadata": {},
   "outputs": [
    {
     "data": {
      "text/plain": [
       "0.06768024547354012"
      ]
     },
     "execution_count": 181,
     "metadata": {},
     "output_type": "execute_result"
    }
   ],
   "source": [
    "prob_infection(3, 296 + 1)"
   ]
  },
  {
   "cell_type": "code",
   "execution_count": 182,
   "metadata": {},
   "outputs": [
    {
     "data": {
      "text/plain": [
       "0.6950468565063604"
      ]
     },
     "execution_count": 182,
     "metadata": {},
     "output_type": "execute_result"
    }
   ],
   "source": [
    "random.uniform(0.0, 1.0)"
   ]
  },
  {
   "cell_type": "code",
   "execution_count": 203,
   "metadata": {},
   "outputs": [],
   "source": [
    "SOCIAL_DISTANCING = 5"
   ]
  },
  {
   "cell_type": "code",
   "execution_count": 204,
   "metadata": {},
   "outputs": [
    {
     "data": {
      "text/plain": [
       "25"
      ]
     },
     "execution_count": 204,
     "metadata": {},
     "output_type": "execute_result"
    },
    {
     "data": {
      "image/png": "[encoded data removed]",
      "text/plain": [
       "<Figure size 640x480 with 1 Axes>"
      ]
     },
     "metadata": {},
     "output_type": "display_data"
    }
   ],
   "source": [
    "sitting_array = generate_sitting_array(SOCIAL_DISTANCING)\n",
    "(sitting_array == 2).sum()"
   ]
  },
  {
   "cell_type": "code",
   "execution_count": 205,
   "metadata": {},
   "outputs": [
    {
     "name": "stdout",
     "output_type": "stream",
     "text": [
      "0.00016298200845171385\n",
      "------------ new attempt ------------\n"
     ]
    },
    {
     "name": "stderr",
     "output_type": "stream",
     "text": [
      "C:\\Users\\Nisha\\AppData\\Local\\Temp\\ipykernel_49000\\2082262766.py:49: UserWarning: Matplotlib is currently using module://matplotlib_inline.backend_inline, which is a non-GUI backend, so cannot show the figure.\n",
      "  fig.show()\n"
     ]
    },
    {
     "data": {
      "image/png": "[encoded data removed]",
      "text/plain": [
       "<Figure size 640x480 with 2 Axes>"
      ]
     },
     "metadata": {},
     "output_type": "display_data"
    },
    {
     "data": {
      "image/png": "[encoded data removed]",
      "text/plain": [
       "<Figure size 640x480 with 2 Axes>"
      ]
     },
     "metadata": {},
     "output_type": "display_data"
    },
    {
     "data": {
      "image/png": "[encoded data removed]",
      "text/plain": [
       "<Figure size 640x480 with 2 Axes>"
      ]
     },
     "metadata": {},
     "output_type": "display_data"
    },
    {
     "data": {
      "image/png": "[encoded data removed]",
      "text/plain": [
       "<Figure size 640x480 with 2 Axes>"
      ]
     },
     "metadata": {},
     "output_type": "display_data"
    },
    {
     "data": {
      "image/png": "[encoded data removed]",
      "text/plain": [
       "<Figure size 640x480 with 2 Axes>"
      ]
     },
     "metadata": {},
     "output_type": "display_data"
    },
    {
     "data": {
      "image/png": "[encoded data removed]",
      "text/plain": [
       "<Figure size 640x480 with 2 Axes>"
      ]
     },
     "metadata": {},
     "output_type": "display_data"
    },
    {
     "data": {
      "image/png": "[encoded data removed]",
      "text/plain": [
       "<Figure size 640x480 with 2 Axes>"
      ]
     },
     "metadata": {},
     "output_type": "display_data"
    },
    {
     "data": {
      "image/png": "[encoded data removed]",
      "text/plain": [
       "<Figure size 640x480 with 2 Axes>"
      ]
     },
     "metadata": {},
     "output_type": "display_data"
    },
    {
     "data": {
      "image/png": "[encoded data removed]",
      "text/plain": [
       "<Figure size 640x480 with 2 Axes>"
      ]
     },
     "metadata": {},
     "output_type": "display_data"
    },
    {
     "data": {
      "image/png": "[encoded data removed]",
      "text/plain": [
       "<Figure size 640x480 with 2 Axes>"
      ]
     },
     "metadata": {},
     "output_type": "display_data"
    },
    {
     "data": {
      "image/png": "[encoded data removed]",
      "text/plain": [
       "<Figure size 640x480 with 2 Axes>"
      ]
     },
     "metadata": {},
     "output_type": "display_data"
    },
    {
     "data": {
      "image/png": "[encoded data removed]",
      "text/plain": [
       "<Figure size 640x480 with 2 Axes>"
      ]
     },
     "metadata": {},
     "output_type": "display_data"
    }
   ],
   "source": [
    "EXTERNAL_INFECTION_PROB = 7594 / 7 / 6_656_300 # Infection data / population data (abs)\n",
    "print(EXTERNAL_INFECTION_PROB)\n",
    "\n",
    "CAPACITY = 296 + 1\n",
    "INFECTIOUS_PERIOD = 10\n",
    "# NUM_STUDENT = (sitting_array == 2).sum()\n",
    "\n",
    "tmp_sitting_array = sitting_array.copy()\n",
    "uninfected = np.argwhere(sitting_array == 2).tolist()\n",
    "infected = {i: [] for i in range(1, INFECTIOUS_PERIOD + 1)}\n",
    "resistant = []\n",
    "external_infection = 0\n",
    "\n",
    "while len(resistant) == 0:\n",
    "    print(\"------------ new attempt ------------\")\n",
    "    for week in range(1, 13):\n",
    "        fig, (ax1, ax2) = plt.subplots(1, 2)\n",
    "        \n",
    "        for _ in range(7):\n",
    "            for student in uninfected.copy():\n",
    "                if random_trigger(EXTERNAL_INFECTION_PROB):\n",
    "                    infected[INFECTIOUS_PERIOD].append(student)\n",
    "                    uninfected.remove(student)\n",
    "                    tmp_sitting_array[student[0], student[1]] = 3\n",
    "                    external_infection += 1\n",
    "            \n",
    "            resistant.extend(infected[1])\n",
    "            for i in range(1, INFECTIOUS_PERIOD):\n",
    "                infected[i] = infected[i+1]\n",
    "            infected[INFECTIOUS_PERIOD] = []\n",
    "        \n",
    "        for x, y in resistant:\n",
    "            tmp_sitting_array[x, y] = 4\n",
    "        \n",
    "        ax1.imshow(tmp_sitting_array == 3)\n",
    "        \n",
    "        for i in range(INFECTIOUS_PERIOD, 0, -1):\n",
    "            for infector in infected[i].copy():\n",
    "                for infectable in uninfected.copy():\n",
    "                    d = distance(infector[0], infector[1], infectable[0], infectable[1]) / 2\n",
    "                    P_i = prob_infection(d, CAPACITY)\n",
    "                    if random_trigger(P_i):\n",
    "                        infected[INFECTIOUS_PERIOD].append(infectable)\n",
    "                        uninfected.remove(infectable)\n",
    "                        tmp_sitting_array[infectable[0], infectable[1]] = 3\n",
    "                        print(infectable, P_i, d)\n",
    "                        \n",
    "        ax2.imshow(tmp_sitting_array == 3)\n",
    "        fig.show()"
   ]
  },
  {
   "cell_type": "code",
   "execution_count": 206,
   "metadata": {},
   "outputs": [
    {
     "name": "stdout",
     "output_type": "stream",
     "text": [
      "Transmission factor = 0.0\n",
      "24\n"
     ]
    }
   ],
   "source": [
    "print(f\"Transmission factor = {(len(resistant) - external_infection) / len(uninfected)}\")\n",
    "print(len(uninfected))"
   ]
  }
 ],
 "metadata": {
  "kernelspec": {
   "display_name": "FIT2083-model",
   "language": "python",
   "name": "python3"
  },
  "language_info": {
   "codemirror_mode": {
    "name": "ipython",
    "version": 3
   },
   "file_extension": ".py",
   "mimetype": "text/x-python",
   "name": "python",
   "nbconvert_exporter": "python",
   "pygments_lexer": "ipython3",
   "version": "3.11.3"
  },
  "orig_nbformat": 4
 },
 "nbformat": 4,
 "nbformat_minor": 2
}
